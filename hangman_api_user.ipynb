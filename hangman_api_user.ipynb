{
  "cells": [
    {
      "cell_type": "markdown",
      "metadata": {
        "colab_type": "text",
        "id": "view-in-github"
      },
      "source": [
        "<a href=\"https://colab.research.google.com/github/gothchico/Hangman-RL/blob/main/hangman_api_user.ipynb\" target=\"_parent\"><img src=\"https://colab.research.google.com/assets/colab-badge.svg\" alt=\"Open In Colab\"/></a>"
      ]
    },
    {
      "cell_type": "markdown",
      "metadata": {
        "id": "WrT5LVP06ezZ"
      },
      "source": [
        "# Trexquant Interview Project (The Hangman Game)\n",
        "\n",
        "* Copyright Trexquant Investment LP. All Rights Reserved. \n",
        "* Redistribution of this question without written consent from Trexquant is prohibited"
      ]
    },
    {
      "cell_type": "markdown",
      "metadata": {
        "id": "07p7m_zb6ezd"
      },
      "source": [
        "## Instruction:\n",
        "For this coding test, your mission is to write an algorithm that plays the game of Hangman through our API server. \n",
        "\n",
        "When a user plays Hangman, the server first selects a secret word at random from a list. The server then returns a row of underscores (space separated)—one for each letter in the secret word—and asks the user to guess a letter. If the user guesses a letter that is in the word, the word is redisplayed with all instances of that letter shown in the correct positions, along with any letters correctly guessed on previous turns. If the letter does not appear in the word, the user is charged with an incorrect guess. The user keeps guessing letters until either (1) the user has correctly guessed all the letters in the word\n",
        "or (2) the user has made six incorrect guesses.\n",
        "\n",
        "You are required to write a \"guess\" function that takes current word (with underscores) as input and returns a guess letter. You will use the API codes below to play 1,000 Hangman games. You have the opportunity to practice before you want to start recording your game results.\n",
        "\n",
        "Your algorithm is permitted to use a training set of approximately 250,000 dictionary words. Your algorithm will be tested on an entirely disjoint set of 250,000 dictionary words. Please note that this means the words that you will ultimately be tested on do NOT appear in the dictionary that you are given. You are not permitted to use any dictionary other than the training dictionary we provided. This requirement will be strictly enforced by code review.\n",
        "\n",
        "You are provided with a basic, working algorithm. This algorithm will match the provided masked string (e.g. a _ _ l e) to all possible words in the dictionary, tabulate the frequency of letters appearing in these possible words, and then guess the letter with the highest frequency of appearence that has not already been guessed. If there are no remaining words that match then it will default back to the character frequency distribution of the entire dictionary.\n",
        "\n",
        "This benchmark strategy is successful approximately 18% of the time. Your task is to design an algorithm that significantly outperforms this benchmark."
      ]
    },
    {
      "cell_type": "code",
      "execution_count": 1,
      "metadata": {
        "collapsed": true,
        "id": "iOxO6AOp6ezo"
      },
      "outputs": [],
      "source": [
        "import json\n",
        "import requests\n",
        "import random\n",
        "import string\n",
        "import secrets\n",
        "import time\n",
        "import re\n",
        "import collections\n",
        "import torch\n",
        "import numpy\n",
        "import pandas\n",
        "import os\n",
        "from torch.utils.data import TensorDataset, DataLoader\n",
        "try:\n",
        "    from urllib.parse import parse_qs, urlencode, urlparse\n",
        "except ImportError:\n",
        "    from urllib.parse import parse_qs, urlparse\n",
        "    from urllib import urlencode"
      ]
    },
    {
      "cell_type": "code",
      "execution_count": 2,
      "metadata": {},
      "outputs": [
        {
          "name": "stdout",
          "output_type": "stream",
          "text": [
            "1.6.0\n"
          ]
        }
      ],
      "source": [
        "print(torch.__version__)"
      ]
    },
    {
      "cell_type": "code",
      "execution_count": 3,
      "metadata": {},
      "outputs": [
        {
          "data": {
            "text/plain": [
              "tensor([0.], device='cuda:0')"
            ]
          },
          "execution_count": 3,
          "metadata": {},
          "output_type": "execute_result"
        }
      ],
      "source": [
        "torch.zeros(1).cuda()"
      ]
    },
    {
      "cell_type": "code",
      "execution_count": 4,
      "metadata": {
        "colab": {
          "base_uri": "https://localhost:8080/"
        },
        "id": "YSuSMIkP0DJg",
        "outputId": "7705d7a9-d641-415b-ad92-f57c9df09ea3"
      },
      "outputs": [
        {
          "name": "stdout",
          "output_type": "stream",
          "text": [
            "1.6.0\n",
            "cuda:0\n"
          ]
        }
      ],
      "source": [
        "print(torch.__version__)\n",
        "# torch.cuda.is_available() checks and returns a Boolean True if a GPU is available, else it'll return False\n",
        "is_cuda = torch.cuda.is_available()\n",
        "\n",
        "# If we have a GPU available, we'll set our device to GPU. We'll use this device variable later in our code.\n",
        "if is_cuda:\n",
        "    device = torch.device(\"cuda:0\")\n",
        "else:\n",
        "    device = torch.device(\"cpu\")\n",
        "\n",
        "print(device)"
      ]
    },
    {
      "cell_type": "code",
      "execution_count": 5,
      "metadata": {
        "colab": {
          "base_uri": "https://localhost:8080/",
          "height": 37
        },
        "id": "NvTIxa3k0m11",
        "outputId": "75184fd6-b91d-42d9-c4a0-7faef50d8f04"
      },
      "outputs": [
        {
          "data": {
            "text/plain": [
              "'10.2'"
            ]
          },
          "execution_count": 5,
          "metadata": {},
          "output_type": "execute_result"
        }
      ],
      "source": [
        "torch.version.cuda"
      ]
    },
    {
      "cell_type": "code",
      "execution_count": 6,
      "metadata": {
        "colab": {
          "base_uri": "https://localhost:8080/"
        },
        "id": "5kP8l77QxD7O",
        "outputId": "9ddc588f-cb49-40cf-fdb8-06f28dc6a4f5"
      },
      "outputs": [
        {
          "name": "stdout",
          "output_type": "stream",
          "text": [
            "Requirement already satisfied: wandb in c:\\users\\mahi\\appdata\\local\\programs\\python\\python36\\lib\\site-packages (0.10.12)\n",
            "Requirement already satisfied: configparser>=3.8.1 in c:\\users\\mahi\\appdata\\local\\programs\\python\\python36\\lib\\site-packages (from wandb) (5.0.1)\n",
            "Requirement already satisfied: shortuuid>=0.5.0 in c:\\users\\mahi\\appdata\\local\\programs\\python\\python36\\lib\\site-packages (from wandb) (1.0.1)\n",
            "Requirement already satisfied: python-dateutil>=2.6.1 in c:\\users\\mahi\\appdata\\local\\programs\\python\\python36\\lib\\site-packages (from wandb) (2.8.0)\n",
            "Requirement already satisfied: protobuf>=3.12.0 in c:\\users\\mahi\\appdata\\local\\programs\\python\\python36\\lib\\site-packages (from wandb) (3.13.0)\n",
            "Requirement already satisfied: PyYAML in c:\\users\\mahi\\appdata\\local\\programs\\python\\python36\\lib\\site-packages (from wandb) (5.3.1)\n",
            "Requirement already satisfied: watchdog>=0.8.3 in c:\\users\\mahi\\appdata\\local\\programs\\python\\python36\\lib\\site-packages (from wandb) (0.10.3)\n",
            "Requirement already satisfied: sentry-sdk>=0.4.0 in c:\\users\\mahi\\appdata\\local\\programs\\python\\python36\\lib\\site-packages (from wandb) (0.19.0)\n",
            "Requirement already satisfied: docker-pycreds>=0.4.0 in c:\\users\\mahi\\appdata\\local\\programs\\python\\python36\\lib\\site-packages (from wandb) (0.4.0)\n",
            "Requirement already satisfied: GitPython>=1.0.0 in c:\\users\\mahi\\appdata\\local\\programs\\python\\python36\\lib\\site-packages (from wandb) (3.1.9)\n",
            "Requirement already satisfied: Click>=7.0 in c:\\users\\mahi\\appdata\\local\\programs\\python\\python36\\lib\\site-packages (from wandb) (7.1.2)\n",
            "Requirement already satisfied: six>=1.13.0 in c:\\users\\mahi\\appdata\\local\\programs\\python\\python36\\lib\\site-packages (from wandb) (1.15.0)\n",
            "Requirement already satisfied: subprocess32>=3.5.3 in c:\\users\\mahi\\appdata\\local\\programs\\python\\python36\\lib\\site-packages (from wandb) (3.5.4)\n",
            "Requirement already satisfied: psutil>=5.0.0 in c:\\users\\mahi\\appdata\\local\\programs\\python\\python36\\lib\\site-packages (from wandb) (5.7.2)\n",
            "Requirement already satisfied: requests<3,>=2.0.0 in c:\\users\\mahi\\appdata\\local\\programs\\python\\python36\\lib\\site-packages (from wandb) (2.24.0)\n",
            "Requirement already satisfied: promise<3,>=2.0 in c:\\users\\mahi\\appdata\\local\\programs\\python\\python36\\lib\\site-packages (from wandb) (2.3)\n",
            "Requirement already satisfied: gitdb<5,>=4.0.1 in c:\\users\\mahi\\appdata\\local\\programs\\python\\python36\\lib\\site-packages (from GitPython>=1.0.0->wandb) (4.0.5)\n",
            "Requirement already satisfied: smmap<4,>=3.0.1 in c:\\users\\mahi\\appdata\\local\\programs\\python\\python36\\lib\\site-packages (from gitdb<5,>=4.0.1->GitPython>=1.0.0->wandb) (3.0.4)\n",
            "Requirement already satisfied: setuptools in c:\\users\\mahi\\appdata\\local\\programs\\python\\python36\\lib\\site-packages (from protobuf>=3.12.0->wandb) (39.2.0)\n",
            "Requirement already satisfied: chardet<4,>=3.0.2 in c:\\users\\mahi\\appdata\\local\\programs\\python\\python36\\lib\\site-packages (from requests<3,>=2.0.0->wandb) (3.0.4)\n",
            "Requirement already satisfied: urllib3!=1.25.0,!=1.25.1,<1.26,>=1.21.1 in c:\\users\\mahi\\appdata\\local\\programs\\python\\python36\\lib\\site-packages (from requests<3,>=2.0.0->wandb) (1.25.10)\n",
            "Requirement already satisfied: certifi>=2017.4.17 in c:\\users\\mahi\\appdata\\local\\programs\\python\\python36\\lib\\site-packages (from requests<3,>=2.0.0->wandb) (2020.6.20)\n",
            "Requirement already satisfied: idna<3,>=2.5 in c:\\users\\mahi\\appdata\\local\\programs\\python\\python36\\lib\\site-packages (from requests<3,>=2.0.0->wandb) (2.10)\n",
            "Requirement already satisfied: pathtools>=0.1.1 in c:\\users\\mahi\\appdata\\local\\programs\\python\\python36\\lib\\site-packages (from watchdog>=0.8.3->wandb) (0.1.2)\n",
            "Note: you may need to restart the kernel to use updated packages.\n"
          ]
        },
        {
          "name": "stderr",
          "output_type": "stream",
          "text": [
            "WARNING: You are using pip version 21.0; however, version 21.3.1 is available.\n",
            "You should consider upgrading via the 'c:\\Users\\Mahi\\AppData\\Local\\Programs\\Python\\Python36\\python.exe -m pip install --upgrade pip' command.\n",
            "UsageError: Line magic function `%wandb` not found.\n"
          ]
        }
      ],
      "source": [
        "%pip install wandb\n",
        "%wandb login"
      ]
    },
    {
      "cell_type": "code",
      "execution_count": 7,
      "metadata": {
        "colab": {
          "base_uri": "https://localhost:8080/",
          "height": 148
        },
        "id": "hvFzFuTQx56s",
        "outputId": "79e542a8-c8f6-4840-9b45-233e1174fd91"
      },
      "outputs": [
        {
          "name": "stderr",
          "output_type": "stream",
          "text": [
            "Failed to query for notebook name, you can set it manually with the WANDB_NOTEBOOK_NAME environment variable\n",
            "wandb: Currently logged in as: gothchico (use `wandb login --relogin` to force relogin)\n",
            "wandb: wandb version 0.13.5 is available!  To upgrade, please run:\n",
            "wandb:  $ pip install wandb --upgrade\n"
          ]
        },
        {
          "data": {
            "text/html": [
              "\n",
              "                Tracking run with wandb version 0.10.12<br/>\n",
              "                Syncing run <strong style=\"color:#cdcd00\">lilac-blaze-21</strong> to <a href=\"https://wandb.ai\" target=\"_blank\">Weights & Biases</a> <a href=\"https://docs.wandb.com/integrations/jupyter.html\" target=\"_blank\">(Documentation)</a>.<br/>\n",
              "                Project page: <a href=\"https://wandb.ai/gothchico/hangman\" target=\"_blank\">https://wandb.ai/gothchico/hangman</a><br/>\n",
              "                Run page: <a href=\"https://wandb.ai/gothchico/hangman/runs/3fdbfxdo\" target=\"_blank\">https://wandb.ai/gothchico/hangman/runs/3fdbfxdo</a><br/>\n",
              "                Run data is saved locally in <code>e:\\Hangman-RL\\wandb\\run-20221122_181811-3fdbfxdo</code><br/><br/>\n",
              "            "
            ],
            "text/plain": [
              "<IPython.core.display.HTML object>"
            ]
          },
          "metadata": {},
          "output_type": "display_data"
        },
        {
          "data": {
            "text/html": [
              "<h1>Run(3fdbfxdo)</h1><p></p><iframe src=\"https://wandb.ai/gothchico/hangman/runs/3fdbfxdo\" style=\"border:none;width:100%;height:400px\"></iframe>"
            ],
            "text/plain": [
              "<wandb.sdk.wandb_run.Run at 0x1e0af24e8d0>"
            ]
          },
          "execution_count": 7,
          "metadata": {},
          "output_type": "execute_result"
        }
      ],
      "source": [
        "import wandb\n",
        "\n",
        "wandb.init(project=\"hangman\", entity=\"gothchico\")"
      ]
    },
    {
      "cell_type": "code",
      "execution_count": 8,
      "metadata": {
        "colab": {
          "base_uri": "https://localhost:8080/"
        },
        "id": "YXvvuoTuY0OR",
        "outputId": "0cfeb26d-152d-4660-e7d8-39a17d803887"
      },
      "outputs": [
        {
          "name": "stdout",
          "output_type": "stream",
          "text": [
            "(26,)\n",
            "torch.Size([1, 26])\n",
            "tensor([[-0.7947, -0.3522, -0.3088,  ..., -0.6614, -0.3725,  1.9641],\n",
            "        [-1.1025,  0.6869,  0.0600,  ..., -0.8277,  0.7177,  0.6078],\n",
            "        [-0.1041,  0.5348, -0.4735,  ...,  0.4772, -0.5514,  0.9605],\n",
            "        ...,\n",
            "        [ 0.3235,  0.5751, -0.0216,  ...,  1.4536,  0.3978, -0.0413],\n",
            "        [-0.1839,  0.5316, -0.1527,  ..., -0.0364,  0.2907, -1.4165],\n",
            "        [ 0.5507, -0.8485, -1.7848,  ...,  0.0790, -0.0903,  0.2270]])\n",
            "tensor([110,  69,  63,  52,  78,  17,  92,  38,  94,  98])\n"
          ]
        }
      ],
      "source": [
        "import numpy\n",
        "import torch\n",
        "from torch.autograd import Variable\n",
        "x = numpy.zeros(26)\n",
        "print(x.shape)\n",
        "y = torch.from_numpy(x).unsqueeze(0)\n",
        "print(y.shape)\n",
        "\n",
        "\n",
        "output = Variable(torch.randn(10, 120).float())\n",
        "target = Variable(torch.FloatTensor(10).uniform_(0, 120).long())\n",
        "\n",
        "print(output)\n",
        "print(target)\n",
        "# embedding_dim = MAX_NUM_INPUTS*27\n",
        "\n",
        "got_em_right = 0"
      ]
    },
    {
      "cell_type": "code",
      "execution_count": 9,
      "metadata": {
        "id": "mZLeWFRNx9Jr"
      },
      "outputs": [],
      "source": [
        "class GuessNet(torch.nn.Module):\n",
        "  def __init__(self , output_size, embedding_dim, hidden_dim, n_layers=3):\n",
        "        super(GuessNet, self).__init__()\n",
        "        self.output_size = output_size\n",
        "        self.n_layers = n_layers\n",
        "        self.hidden_dim = hidden_dim\n",
        "        \n",
        "        self.embedding = torch.nn.Embedding(28, embedding_dim, padding_idx=0)\n",
        "        self.lstm = torch.nn.LSTM(embedding_dim, hidden_dim, n_layers, batch_first=True)\n",
        "        # self.dropout = torch.nn.Dropout(drop_prob)\n",
        "        self.fc = torch.nn.Linear(hidden_dim+26*embedding_dim, output_size)\n",
        "        # self.softmax = torch.nn.LogSoftmax()\n",
        "        \n",
        "  def forward(self, a, b, hidden):\n",
        "        batch_size = a.size(0)\n",
        "        # a = a.long()\n",
        "        print(f'obscured input looks like : {a} with shape {a.shape}')\n",
        "        embeds = self.embedding(a.long())\n",
        "        # print(f'embeds look like : {embeds} with shape{embeds.shape}')\n",
        "        lstm_out, hidden = self.lstm(embeds, hidden)\n",
        "        # print(f'lstm_out looks like : {lstm_out} with shape{lstm_out.shape}')\n",
        "        # print(f'hidden look like : {hidden}')\n",
        "       \n",
        "        # # Index hidden state of last time step\n",
        "        # 1x135x50\n",
        "        # lstm_out = lstm_out.contiguous().view(-1, self.hidden_dim)\n",
        "        out = lstm_out[:, -1, :]\n",
        "\n",
        "        # print(f'out looks like : {out} with shape{out.shape}')\n",
        "\n",
        "        # 1x50\n",
        "        # out = self.dropout(out)\n",
        "        b = self.embedding(b.long()).reshape(1,-1)\n",
        "        # print(f'b looks like : {b} with shape{b.shape}')\n",
        "        concat_inp = torch.cat((out, b), -1)\n",
        "        # print(f'concat_inp looks like : {concat_inp} with shape{concat_inp.shape}')\n",
        "        # print(concat_inp.shape)\n",
        "        out = self.fc(concat_inp)      #use concat hereeee\n",
        "        # print(f'out looks like : {out} with shape{out.shape}')\n",
        "        # print(f'result of fc is : {out} with shape {out.shape}')\n",
        "\n",
        "\n",
        "        # out = self.sigmoid(out)\n",
        "        \n",
        "        # out = out.view(batch_size, -1)\n",
        "        # out = out[:,-1]\n",
        "        return out, hidden\n",
        "\n",
        "    \n",
        "  def init_hidden(self, batch_size = 1):\n",
        "        weight = next(self.parameters()).data\n",
        "        hidden = (weight.new(self.n_layers, batch_size, self.hidden_dim).zero_().to(device),\n",
        "                      weight.new(self.n_layers, batch_size, self.hidden_dim).zero_().to(device))\n",
        "        return hidden\n",
        "\n",
        "class SmartPlayer(object):\n",
        "\n",
        "  def __init__(self, input, model, criterion, optimiser, batched = False, chances = 6):\n",
        "\n",
        "        self.guessed_letters = set([])\n",
        "        self.batched = batched\n",
        "        if batched is False :\n",
        "          self.encoded_word = input[0][0].detach().cpu().numpy().tolist().remove(0)\n",
        "          self.original_word = [chr(i+97) for i in self.encoded_word]\n",
        "          self.remaining_letters_set = set(self.encoded_word)\n",
        "        else :\n",
        "          self.batched_input = input\n",
        "          self.encoded_word = []\n",
        "\n",
        "        self.correct_responses = torch.empty((0,26))\n",
        "        self.obscured_words_seen = []\n",
        "        self.letters_previously_guessed = []\n",
        "        self.guesses = []\n",
        "        self.out_tensors = torch.empty((0,26))\n",
        "        self.batched_out_tensors = torch.empty((0,chances,26)).to(device)\n",
        "        self.batched_correct_tensors = torch.empty((0,chances,26)).to(device)\n",
        "\n",
        "        self.chances_left = chances\n",
        "\n",
        "        self.model = model\n",
        "        self.optim = optimiser\n",
        "        self.criterion = criterion\n",
        "\n",
        "        full_dictionary_location = \"words_250000_train.txt\"\n",
        "        self.full_dictionary = self.build_dictionary(full_dictionary_location)\n",
        "        self.max_word_len = max([len(i) for i in self.full_dictionary])\n",
        "        self.full_dictionary_common_letter_sorted = collections.Counter(\"\".join(self.full_dictionary)).most_common()\n",
        "\n",
        "        self.current_dictionary = self.full_dictionary\n",
        "\n",
        "        # print(f'encoded word is : {self.encoded_word}')\n",
        "        # print(f'remaining_letters_set is : {self.remaining_letters_set}')\n",
        "\n",
        "  def set_word(self,enc_word):\n",
        "    \n",
        "        self.encoded_word = enc_word.detach().cpu().numpy().tolist()\n",
        "        self.encoded_word = list(filter((0).__ne__, self.encoded_word))\n",
        "        self.encoded_word = [ i-1 for i in self.encoded_word]\n",
        "        self.original_word = [chr(i+97) for i in self.encoded_word]\n",
        "        print(f'encoded and original words : {self.encoded_word} and {self.original_word}')\n",
        "        self.remaining_letters_set = set(self.encoded_word)\n",
        "        self.correct_responses = torch.empty((0,26)).to(device)\n",
        "        self.obscured_words_seen = []\n",
        "        self.letters_previously_guessed = []\n",
        "        self.guesses = []\n",
        "        self.out_tensors = torch.empty((0,26)).to(device)\n",
        "        self.guessed_letters = set([])\n",
        "\n",
        "        return\n",
        "\n",
        "  def reset_chances(self):\n",
        "      self.chances_left = 6\n",
        "\n",
        "  def padded_for_output(self, x_tensor):\n",
        "    if(x_tensor.shape[0]==0):\n",
        "        return torch.zeros((6,26), dtype=torch.float32).to(device)\n",
        "    dim = x_tensor.shape[0]\n",
        "    for i in range(6-dim):\n",
        "        x_tensor = torch.cat((x_tensor,torch.zeros((1,26), dtype=torch.float32).to(device)),0)\n",
        "    assert(x_tensor.shape[0]==6)\n",
        "\n",
        "    return x_tensor.to(device)\n",
        "\n",
        "  def run_1(self):\n",
        "    # if self.batched is True:\n",
        "      for enc_word in self.batched_input[0]:\n",
        "          self.reset_chances()\n",
        "          self.set_word(enc_word)\n",
        "          while (self.chances_left > 0) and (len(self.remaining_letters_set) > 0):\n",
        "              encoded_guessed_letters, obscured_input = self.prepare_inputs() \n",
        "              self.model.zero_grad()\n",
        "              guessed_encoding_tensor, _ = self.model(obscured_input.to(device),encoded_guessed_letters.to(device), None)\n",
        "              # print(f'guessed_encoding_tensor is : {guessed_encoding_tensor} with shape : {guessed_encoding_tensor.shape}')\n",
        "              guessed_encoding = self.store_result(guessed_encoding_tensor,obscured_input,encoded_guessed_letters)\n",
        "              # print(f'The guessed output num is {guessed_encoding} and letter is {chr(guessed_encoding+97)}') \n",
        "              \n",
        "              # print(f'chances left are : {self.chances_left} and no. of remaining letters left are : {len(self.remaining_letters_set)}')\n",
        "              # print(f'remaining_letters_set is : {self.remaining_letters_set}')\n",
        "              # print(f'shapes : {self.batched_out_tensors.shape} and {self.out_tensors.unsqueeze(0).shape}')\n",
        "          self.batched_out_tensors = torch.cat((self.batched_out_tensors, self.padded_for_output(self.out_tensors).unsqueeze(0)),0)\n",
        "          self.batched_correct_tensors = torch.cat((self.batched_correct_tensors, self.padded_for_output(self.correct_responses).unsqueeze(0)),0)\n",
        "        # Return the observations for use in training (both inputs, predictions, and losses)\n",
        "        # print(type(torch.tensor(self.correct_responses)), torch.tensor(self.correct_responses).shape)\n",
        "      return(self.batched_out_tensors, self.batched_correct_tensors)\n",
        "\n",
        "  def run(self):\n",
        "    # if self.batched is True:\n",
        "      got_em_right = 0\n",
        "      loss = 0\n",
        "      for enc_word in self.batched_input[0]:\n",
        "          self.reset_chances()\n",
        "          self.set_word(enc_word)\n",
        "          while (self.chances_left > 0) and (len(self.remaining_letters_set) > 0):\n",
        "              encoded_guessed_letters, obscured_input = self.prepare_inputs() \n",
        "              self.model.zero_grad()\n",
        "              self.optim.zero_grad()\n",
        "              guessed_encoding_tensor, _ = self.model(obscured_input.to(device),encoded_guessed_letters.to(device), None)\n",
        "              # print(f'guessed_encoding_tensor is : {guessed_encoding_tensor} with shape : {guessed_encoding_tensor.shape}')\n",
        "              guessed_encoding = self.store_new_result(guessed_encoding_tensor)\n",
        "              print(f'The guessed output num is {guessed_encoding} and letter is {chr(guessed_encoding+97)}') \n",
        "              y_pred = self.padded_for_output(self.out_tensors).to(device)\n",
        "              y_target = self.padded_for_output(self.correct_responses).to(device)\n",
        "              loss = self.criterion(y_pred, y_target)\n",
        "          # print(f'out_tensors : {y_pred} and shape : {y_pred.shape}')\n",
        "          # print(f'correct_responses : {y_target} and shape : {y_target.shape}')\n",
        "          if (self.chances_left == 6):\n",
        "              got_em_right+=1\n",
        "          if (self.model.training is True) and (self.chances_left < 6):\n",
        "              wandb.log({\"loss\": loss})\n",
        "              loss.backward()\n",
        "              torch.nn.utils.clip_grad_norm_(self.model.parameters(), 5)\n",
        "              self.optim.step()\n",
        "          else :\n",
        "              wandb.log({\"val_loss\": loss})\n",
        "\n",
        "      return(loss, got_em_right)\n",
        "\n",
        "  def encode_correct_responses(self):\n",
        "        # To be used with cross_entropy_with_softmax, this vector must be normalized\n",
        "        # response = numpy.zeros(26, dtype=numpy.float32)\n",
        "        # for i in self.remaining_letters_set:\n",
        "        #     response[i] = 1.0\n",
        "        # response /= response.sum()\n",
        "        # return torch.tensor(response).to(device)\n",
        "        \n",
        "        # response = numpy.zeros(26, dtype=numpy.float32)\n",
        "        # for ii, x in enumerate(self.remaining_letters_set):\n",
        "        #     response[ii] = x\n",
        "        # response[numpy.nonzero(response)[-1]+1] = -1\n",
        "\n",
        "        labels = torch.tensor(list(self.remaining_letters_set))\n",
        "        labels = labels.unsqueeze(0)\n",
        "        target = torch.zeros(labels.size(0), 26).scatter_(1, labels, 1.)\n",
        "\n",
        "        return target.to(device)\n",
        "  \n",
        "  # def store_result(self, guessed_enc_tensor, obscured_input, encoded_guessed_letters):\n",
        "\n",
        "  #       # Record what the model saw as input: an obscured word and a list of previously-guessed letters\n",
        "  #       self.obscured_words_seen.append(obscured_input.detach().cpu().numpy())\n",
        "  #       self.letters_previously_guessed.append(encoded_guessed_letters.detach().cpu().numpy())\n",
        "        \n",
        "  #       # Find the index of the guessed letter\n",
        "  #       guessed_encoding = numpy.argmax(numpy.squeeze(guessed_enc_tensor.detach().cpu().numpy()))\n",
        "\n",
        "        \n",
        "  #       # Record the letter that the model guessed, and add that guess to the list of previous guesses\n",
        "  #       self.guesses.append(guessed_encoding).sort()\n",
        "  #       self.guessed_letters.add(guessed_encoding)\n",
        "\n",
        "\n",
        "  #       # Determine an appropriate reward, and reduce # of chances left if appropriate\n",
        "  #       if guessed_encoding in self.remaining_letters_set:\n",
        "  #           self.remaining_letters_set.remove(guessed_encoding)\n",
        "  #       else : \n",
        "  #           self.chances_left -= 1\n",
        "  #           #Saving the out tensors\n",
        "  #           self.out_tensors = torch.cat((self.out_tensors, guessed_enc_tensor),0)\n",
        "  #           # Store the \"correct responses\"\n",
        "  #           correct_responses = self.encode_correct_responses()\n",
        "  #           self.correct_responses = torch.cat((self.correct_responses, correct_responses.unsqueeze(0)),0)\n",
        "\n",
        "  #       # if self.correct_responses[-1][guessed_encoding] < 0.00001:\n",
        "  #       #     self.chances_left -= 1\n",
        "  #       return guessed_encoding\n",
        "\n",
        "  def store_new_result(self, guessed_enc_tensor):\n",
        "        \n",
        "        # Find the index of the guessed letter\n",
        "        guessed_encoding = torch.argmax(torch.squeeze(guessed_enc_tensor))\n",
        "        guessed_encoding = guessed_encoding.item()\n",
        "        # Record the letter that the model guessed, and add that guess to the list of previous guesses\n",
        "        self.guesses.append(guessed_encoding)\n",
        "        self.guessed_letters.add(guessed_encoding)  \n",
        "        \n",
        "        # print(f'guessed_letters are : {self.guessed_letters}')\n",
        "        print(f'guesses are : {self.guesses}')\n",
        "         \n",
        "        # Determine an appropriate reward, and reduce # of chances left if appropriate\n",
        "        if guessed_encoding in self.remaining_letters_set:\n",
        "            self.remaining_letters_set.remove(guessed_encoding)\n",
        "        else : \n",
        "            self.chances_left -= 1\n",
        "            #Saving the out tensors\n",
        "            self.out_tensors = torch.cat((self.out_tensors, guessed_enc_tensor),0).to(device)\n",
        "            # Store the \"correct responses\"\n",
        "            correct_responses = self.encode_correct_responses()\n",
        "            self.correct_responses = torch.cat((self.correct_responses, correct_responses),0).to(device)\n",
        "\n",
        "        # if self.correct_responses[-1][guessed_encoding] < 0.00001:\n",
        "        #     self.chances_left -= 1\n",
        "        return guessed_encoding\n",
        "\n",
        "  def build_dictionary(self, dictionary_file_location):\n",
        "      text_file = open(dictionary_file_location,\"r\")\n",
        "      full_dictionary = text_file.read().splitlines()\n",
        "      text_file.close()\n",
        "      return full_dictionary\n",
        "\n",
        "  def prepare_inputs(self):\n",
        "\n",
        "        encoded_obscured_word = []\n",
        "        encoded_guessed_letters_vector = torch.zeros(26, dtype=torch.float32)\n",
        "        # for ii, x in enumerate(self.guessed_letters):\n",
        "        #     if x in self.encoded_word:\n",
        "        #         encoded_guessed_letters_vector[ii] = x\n",
        "        #     else:\n",
        "        #         encoded_guessed_letters_vector[i] = -1\n",
        "\n",
        "        for ii, x in enumerate(self.guesses):\n",
        "            encoded_guessed_letters_vector[ii] = x+1\n",
        "\n",
        "        \n",
        "        encoded_obscured_word = [i+1 if i in self.guessed_letters else 27 for i in self.encoded_word]\n",
        "        # encoded_obscured_word_vector = numpy.zeros((len(encoded_obscured_word), 27), dtype=numpy.float32)\n",
        "        # for i, j in enumerate(encoded_obscured_word):\n",
        "        #     encoded_obscured_word_vector[i, j] = 1\n",
        "\n",
        "        encoded_obscured_word_vector = torch.zeros(self.max_word_len, dtype=torch.float32)\n",
        "        for ii, x in enumerate(encoded_obscured_word):\n",
        "            encoded_obscured_word_vector[-len(encoded_obscured_word)+ii] = x\n",
        "\n",
        "        # flattened_obscured_word = encoded_obscured_word_vector.reshape(1,-1)\n",
        "\n",
        "        return encoded_guessed_letters_vector.unsqueeze(0), encoded_obscured_word_vector.unsqueeze(0)\n",
        "\n",
        " "
      ]
    },
    {
      "cell_type": "code",
      "execution_count": 12,
      "metadata": {
        "collapsed": true,
        "id": "L5oEs0i06ezp"
      },
      "outputs": [],
      "source": [
        "HANGMAN_URL = \"https://www.trexsim.com/trexsim/hangman\"\n",
        "model_filename = './state_dict.pt'\n",
        "\n",
        "# fill up guessed_letters = []\n",
        "class HangmanAPI(object):\n",
        "    def __init__(self, access_token=None, session=None, timeout=None):\n",
        "        self.access_token = access_token\n",
        "        self.session = session or requests.Session()\n",
        "        self.timeout = timeout\n",
        "        self.guessed_letters = []\n",
        "\n",
        "        full_dictionary_location = \"words_250000_train.txt\"\n",
        "        self.full_dictionary = self.build_dictionary(full_dictionary_location)\n",
        "        self.vocab_size = len(self.full_dictionary)\n",
        "        self.max_word_len = max([len(i) for i in self.full_dictionary])\n",
        "        self.avg_word_len = numpy.array([len(i) for i in self.full_dictionary]).mean()\n",
        "\n",
        "        self.encoded_dictionary = [[ord(i)-96 for i in word] for word in self.full_dictionary]\n",
        "        # print(f'printing : {type(self.encoded_dictionary)} and {self.encoded_dictionary[:5]}')\n",
        "        \n",
        "        self.full_dictionary_common_letter_sorted = collections.Counter(\"\".join(self.full_dictionary)).most_common()\n",
        "        if os.path.exists(model_filename) :\n",
        "            self.model = GuessNet(26, 8, 26)\n",
        "            self.model.load_state_dict(torch.load(model_filename))\n",
        "            self.model.eval()\n",
        "        else :\n",
        "            self.perform_training_and_save_model()\n",
        "            \n",
        "\n",
        "    # Defining a function that pads words with 0 to a fixed length\n",
        "    def pad_input(self, words, max_len):\n",
        "        data = numpy.zeros((self.vocab_size, max_len),dtype= numpy.int32)\n",
        "        for ii, word in enumerate(words):\n",
        "            if len(word) != 0:\n",
        "                data[ii, -len(word):] = numpy.array(word)[:max_len]\n",
        "        return data\n",
        "\n",
        "    def guess(self,word):\n",
        "\n",
        "        word = word[::2].replace(\"_\",\"{\")\n",
        "        guessed_letter = '?'\n",
        "        if self.model is None:\n",
        "            if os.path.exists(model_filename) :\n",
        "                self.model = GuessNet(26, 8, 26)\n",
        "                self.model.load_state_dict(torch.load(model_filename))\n",
        "                self.model.eval()\n",
        "            else :\n",
        "                print(f'pre-trained model isn\\'t available, check model.load and model.save')\n",
        "            \n",
        "        with torch.no_grad():\n",
        "            self.model.eval()\n",
        "            player = SmartPlayer(word,self.model)\n",
        "            encoded_guessed_letters, obscured_input = player.prepare_inputs() \n",
        "            self.model.zero_grad()\n",
        "            guessed_encoding_tensor, _ = player.model(obscured_input.to(device),encoded_guessed_letters.to(device), None)\n",
        "            \n",
        "            guessed_encoding = numpy.argmax(numpy.squeeze(guessed_encoding_tensor.detach().numpy()))\n",
        "        \n",
        "        if guessed_letter == '?':\n",
        "            print(\"Didn't find a suitable letter lol\")\n",
        "        return chr(guessed_encoding+96)\n",
        "\n",
        "    def perform_training_and_save_model(self):\n",
        "\n",
        "        # During training, the model will only see words below this index.\n",
        "        # The remainder of the words can be used as a validation set.\n",
        "        train_val_split_idx = int(len(self.full_dictionary) * 0.8)\n",
        "        print('Training with {} words'.format(train_val_split_idx))\n",
        "\n",
        "        padded_words = self.pad_input(self.encoded_dictionary, self.max_word_len)\n",
        "\n",
        "        # print(f'first 3 padded words : {padded_words[:3]}')\n",
        "        train_epoch_size = train_val_split_idx\n",
        "        val_epoch_size = train_val_split_idx/4\n",
        "        # train_words = padded_words[:train_val_split_idx]\n",
        "        # val_words = padded_words[train_val_split_idx:]\n",
        "\n",
        "        train_words = padded_words[:train_epoch_size]\n",
        "        val_words = padded_words[train_val_split_idx:]\n",
        "        \n",
        "        train_data = TensorDataset(torch.from_numpy(train_words))\n",
        "        val_data = TensorDataset(torch.from_numpy(val_words))\n",
        "\n",
        "        batch_size = 10\n",
        "\n",
        "        train_loader = DataLoader(train_data, shuffle=True, batch_size=batch_size)\n",
        "        val_loader = DataLoader(val_data, shuffle=True, batch_size=batch_size)\n",
        "        \n",
        "        print('Max word length: {}, average word length: {:0.1f}'.format(self.max_word_len, self.avg_word_len))\n",
        "\n",
        "        self.model = GuessNet(26, 8, 26)\n",
        "        self.model.to(device)\n",
        "        lr=0.0001\n",
        "        weight_decay=1e-6\n",
        "        # criterion = torch.nn.CrossEntropyLoss()\n",
        "        # criterion = torch.nn.MultiLabelMarginLoss()\n",
        "        criterion = torch.nn.BCEWithLogitsLoss(reduction = 'mean').to(device)\n",
        "        optimizer = torch.optim.Adam(self.model.parameters(), lr=lr, weight_decay=weight_decay)\n",
        "\n",
        "        epochs = 10\n",
        "        counter = 0\n",
        "        print_every = 1000\n",
        "        clip = 5\n",
        "        valid_loss_min = numpy.Inf\n",
        "        # batch_size = 1\n",
        "\n",
        "        wandb.config.epochs = epochs\n",
        "        wandb.config.train_epoch_size = train_epoch_size\n",
        "        wandb.config.val_epoch_size = val_epoch_size\n",
        "        wandb.config.batch_size = batch_size\n",
        "        wandb.config.learning_rate = lr\n",
        "        wandb.config.weight_decay = weight_decay\n",
        "        wandb.config.architecture = \"GuessNet\"\n",
        "        \n",
        "        print(\"--------------------STARTING TRAINING--------------------\")\n",
        "\n",
        "        self.model.train()\n",
        "        total_words_processed = 0\n",
        "        RIGHT = 0\n",
        "\n",
        "        for epoch in range(epochs):\n",
        "            h = self.model.init_hidden(batch_size)\n",
        "            for train_input in train_loader :\n",
        "\n",
        "                counter += 1\n",
        "                # print(f'train_input is {len(train_input)} with shape {train_input[0].shape}')\n",
        "                # print(f'The first 3 words are : {train_input[0][:3]}')\n",
        "                h = tuple([e.data for e in h])\n",
        "                player = SmartPlayer(train_input, self.model, criterion, optimizer, batched = True)\n",
        "                loss, right = player.run()\n",
        "                RIGHT +=right\n",
        "                print(\"Epoch: {}/{}...\".format(epoch+1,epochs),\"Step: {}...\".format(counter),\n",
        "                          \"Loss: {:.6f}...\".format(loss.item()),\" Right : {}/{}...\".format(RIGHT,counter*batch_size))\n",
        "                \n",
        "                if counter%print_every == 0:\n",
        "                    val_h = self.model.init_hidden(batch_size)\n",
        "                    val_losses = []\n",
        "                    total_words_validated = 0\n",
        "                    self.model.eval()\n",
        "                    print('----------------------validating----------------------')\n",
        "                    for val_input in val_loader :\n",
        "                        total_words_validated+=1\n",
        "                        val_player = SmartPlayer(val_input,self.model, criterion, optimizer, batched = True)\n",
        "                        val_loss, right = val_player.run()\n",
        "                        RIGHT +=right\n",
        "                        print(type(val_loss))\n",
        "                        val_losses.append(val_loss.item())\n",
        "    \n",
        "                    self.model.train()\n",
        "                    print(\"Loss: {:.6f}...\".format(loss.item()),\n",
        "                          \"Val Loss: {:.6f}\".format(numpy.mean(numpy.array(val_losses))),\" Right : {}/{}...\".format(RIGHT,counter*batch_size)\n",
        "                          )\n",
        "                    runs,_,_,success = self.my_status()\n",
        "                    print('running %d practice games done. practice success rate so far = %.3f' % (runs, success/runs))\n",
        "                    if numpy.mean(val_losses) <= valid_loss_min:\n",
        "                          torch.save(self.model.state_dict(), model_filename)\n",
        "                          print('Validation loss decreased ({:.6f} --> {:.6f}).  Saving model ...'.format(valid_loss_min,numpy.mean(val_losses)))\n",
        "                          valid_loss_min = numpy.mean(val_losses)\n",
        "                    \n",
        "                total_words_processed+=1\n",
        "\n",
        "  # gotta save it toooooooooo\n",
        "        print(f'Got em right!!!!!!! :{got_em_right}')\n",
        "        return\n",
        "\n",
        "    def guess_1(self, word): # word input example: \"_ p p _ e \"\n",
        "        ###############################################\n",
        "        # Replace with your own \"guess\" function here #\n",
        "        ###############################################\n",
        "\n",
        "        # clean the word so that we strip away the space characters\n",
        "        # replace \"_\" with \".\" as \".\" indicates any character in regular expressions\n",
        "        clean_word = word[::2].replace(\"_\",\".\")\n",
        "        \n",
        "        # find length of passed word\n",
        "        len_word = len(clean_word)\n",
        "        \n",
        "        # grab current dictionary of possible words from self object, initialize new possible words dictionary to empty\n",
        "        current_dictionary = self.current_dictionary\n",
        "        new_dictionary = []\n",
        "        \n",
        "        # iterate through all of the words in the old plausible dictionary\n",
        "        for dict_word in current_dictionary:\n",
        "            # continue if the word is not of the appropriate length\n",
        "            if len(dict_word) != len_word:\n",
        "                continue\n",
        "                \n",
        "            # if dictionary word is a possible match then add it to the current dictionary\n",
        "            if re.match(clean_word,dict_word):\n",
        "                new_dictionary.append(dict_word)\n",
        "        \n",
        "        # overwrite old possible words dictionary with updated version\n",
        "        self.current_dictionary = new_dictionary\n",
        "        \n",
        "        \n",
        "        # count occurrence of all characters in possible word matches\n",
        "        full_dict_string = \"\".join(new_dictionary)\n",
        "        \n",
        "        c = collections.Counter(full_dict_string)\n",
        "        sorted_letter_count = c.most_common()                   \n",
        "        \n",
        "        guess_letter = '!'\n",
        "        \n",
        "        # return most frequently occurring letter in all possible words that hasn't been guessed yet\n",
        "        for letter,instance_count in sorted_letter_count:\n",
        "            if letter not in self.guessed_letters:\n",
        "                guess_letter = letter\n",
        "                break\n",
        "            \n",
        "        # if no word matches in training dictionary, default back to ordering of full dictionary\n",
        "        if guess_letter == '!':\n",
        "            sorted_letter_count = self.full_dictionary_common_letter_sorted\n",
        "            for letter,instance_count in sorted_letter_count:\n",
        "                if letter not in self.guessed_letters:\n",
        "                    guess_letter = letter\n",
        "                    break            \n",
        "        \n",
        "        return guess_letter\n",
        "\n",
        "    ##########################################################\n",
        "    # You'll likely not need to modify any of the code below #\n",
        "    ##########################################################\n",
        "    \n",
        "    def build_dictionary(self, dictionary_file_location):\n",
        "        text_file = open(dictionary_file_location,\"r\")\n",
        "        full_dictionary = text_file.read().splitlines()\n",
        "        text_file.close()\n",
        "        return full_dictionary\n",
        "                \n",
        "    def start_game(self, practice=True, verbose=True):\n",
        "        # reset guessed letters to empty set and current plausible dictionary to the full dictionary\n",
        "        self.guessed_letters = []\n",
        "        self.current_dictionary = self.full_dictionary\n",
        "                         \n",
        "        response = self.request(\"/new_game\", {\"practice\":practice})\n",
        "        if response.get('status')==\"approved\":\n",
        "            game_id = response.get('game_id')\n",
        "            word = response.get('word')\n",
        "            tries_remains = response.get('tries_remains')\n",
        "            if verbose:\n",
        "                print(\"Successfully start a new game! Game ID: {0}. # of tries remaining: {1}. Word: {2}.\".format(game_id, tries_remains, word))\n",
        "            while tries_remains>0:\n",
        "                # get guessed letter from user code\n",
        "                guess_letter = self.guess(word)\n",
        "                    \n",
        "                # append guessed letter to guessed letters field in hangman object\n",
        "                self.guessed_letters.append(guess_letter)\n",
        "                if verbose:\n",
        "                    print(\"Guessing letter: {0}\".format(guess_letter))\n",
        "                    \n",
        "                try:    \n",
        "                    res = self.request(\"/guess_letter\", {\"request\":\"guess_letter\", \"game_id\":game_id, \"letter\":guess_letter})\n",
        "                except HangmanAPIError:\n",
        "                    print('HangmanAPIError exception caught on request.')\n",
        "                    continue\n",
        "                except Exception as e:\n",
        "                    print('Other exception caught on request.')\n",
        "                    raise e\n",
        "               \n",
        "                if verbose:\n",
        "                    print(\"Sever response: {0}\".format(res))\n",
        "                status = res.get('status')\n",
        "                tries_remains = res.get('tries_remains')\n",
        "                if status==\"success\":\n",
        "                    if verbose:\n",
        "                        print(\"Successfully finished game: {0}\".format(game_id))\n",
        "                    return True\n",
        "                elif status==\"failed\":\n",
        "                    reason = res.get('reason', '# of tries exceeded!')\n",
        "                    if verbose:\n",
        "                        print(\"Failed game: {0}. Because of: {1}\".format(game_id, reason))\n",
        "                    return False\n",
        "                elif status==\"ongoing\":\n",
        "                    word = res.get('word')\n",
        "        else:\n",
        "            if verbose:\n",
        "                print(\"Failed to start a new game\")\n",
        "        return status==\"success\"\n",
        "        \n",
        "    def my_status(self):\n",
        "        return self.request(\"/my_status\", {})\n",
        "    \n",
        "    def request(\n",
        "            self, path, args=None, post_args=None, method=None):\n",
        "        if args is None:\n",
        "            args = dict()\n",
        "        if post_args is not None:\n",
        "            method = \"POST\"\n",
        "\n",
        "        # Add `access_token` to post_args or args if it has not already been\n",
        "        # included.\n",
        "        if self.access_token:\n",
        "            # If post_args exists, we assume that args either does not exists\n",
        "            # or it does not need `access_token`.\n",
        "            if post_args and \"access_token\" not in post_args:\n",
        "                post_args[\"access_token\"] = self.access_token\n",
        "            elif \"access_token\" not in args:\n",
        "                args[\"access_token\"] = self.access_token\n",
        "\n",
        "        time.sleep(0.2)\n",
        "\n",
        "        num_retry, time_sleep = 50, 2\n",
        "        for it in range(num_retry):\n",
        "            try:\n",
        "                response = self.session.request(\n",
        "                    method or \"GET\",\n",
        "                    HANGMAN_URL + path,\n",
        "                    timeout=self.timeout,\n",
        "                    params=args,\n",
        "                    data=post_args\n",
        "                )\n",
        "                break\n",
        "            except requests.HTTPError as e:\n",
        "                response = json.loads(e.read())\n",
        "                raise HangmanAPIError(response)\n",
        "            except requests.exceptions.SSLError as e:\n",
        "                if it + 1 == num_retry:\n",
        "                    raise\n",
        "                time.sleep(time_sleep)\n",
        "\n",
        "        headers = response.headers\n",
        "        if 'json' in headers['content-type']:\n",
        "            result = response.json()\n",
        "        elif \"access_token\" in parse_qs(response.text):\n",
        "            query_str = parse_qs(response.text)\n",
        "            if \"access_token\" in query_str:\n",
        "                result = {\"access_token\": query_str[\"access_token\"][0]}\n",
        "                if \"expires\" in query_str:\n",
        "                    result[\"expires\"] = query_str[\"expires\"][0]\n",
        "            else:\n",
        "                raise HangmanAPIError(response.json())\n",
        "        else:\n",
        "            raise HangmanAPIError('Maintype was not text, or querystring')\n",
        "\n",
        "        if result and isinstance(result, dict) and result.get(\"error\"):\n",
        "            raise HangmanAPIError(result)\n",
        "        return result\n",
        "    \n",
        "class HangmanAPIError(Exception):\n",
        "    def __init__(self, result):\n",
        "        self.result = result\n",
        "        self.code = None\n",
        "        try:\n",
        "            self.type = result[\"error_code\"]\n",
        "        except (KeyError, TypeError):\n",
        "            self.type = \"\"\n",
        "\n",
        "        try:\n",
        "            self.message = result[\"error_description\"]\n",
        "        except (KeyError, TypeError):\n",
        "            try:\n",
        "                self.message = result[\"error\"][\"message\"]\n",
        "                self.code = result[\"error\"].get(\"code\")\n",
        "                if not self.type:\n",
        "                    self.type = result[\"error\"].get(\"type\", \"\")\n",
        "            except (KeyError, TypeError):\n",
        "                try:\n",
        "                    self.message = result[\"error_msg\"]\n",
        "                except (KeyError, TypeError):\n",
        "                    self.message = result\n",
        "\n",
        "        Exception.__init__(self, self.message)"
      ]
    },
    {
      "cell_type": "markdown",
      "metadata": {
        "id": "GJY2PUe26ezr"
      },
      "source": [
        "# API Usage Examples"
      ]
    },
    {
      "cell_type": "markdown",
      "metadata": {
        "id": "UronW1am6ezr"
      },
      "source": [
        "## To start a new game:\n",
        "1. Make sure you have implemented your own \"guess\" method.\n",
        "2. Use the access_token that we sent you to create your HangmanAPI object. \n",
        "3. Start a game by calling \"start_game\" method.\n",
        "4. If you wish to test your function without being recorded, set \"practice\" parameter to 1.\n",
        "5. Note: You have a rate limit of 20 new games per minute. DO NOT start more than 20 new games within one minute."
      ]
    },
    {
      "cell_type": "code",
      "execution_count": 13,
      "metadata": {
        "colab": {
          "base_uri": "https://localhost:8080/"
        },
        "id": "hlFJ_9sW6ezr",
        "outputId": "1c6fc3f6-9c66-4c77-e79f-5db7a718bdaf"
      },
      "outputs": [],
      "source": [
        "api = HangmanAPI(access_token= \"4252c648598f8d531973074650c262\", timeout=2000)\n"
      ]
    },
    {
      "cell_type": "code",
      "execution_count": null,
      "metadata": {
        "id": "PFrmIfsyvW88"
      },
      "outputs": [],
      "source": [
        "runs,_,_,win = api.my_status()\n",
        "print('running %d practice games done. practice success rate so far = %.3f' % (runs, win/runs))\n"
      ]
    },
    {
      "cell_type": "markdown",
      "metadata": {
        "id": "l1WEYnvG6ezs"
      },
      "source": [
        "## Playing practice games:\n",
        "You can use the command below to play up to 100,000 practice games."
      ]
    },
    {
      "cell_type": "code",
      "execution_count": null,
      "metadata": {
        "collapsed": true,
        "id": "V0XPMpDE6ezs",
        "scrolled": true
      },
      "outputs": [],
      "source": [
        "# api.start_game(practice=1,verbose=True)\n",
        "# [total_practice_runs,total_recorded_runs,total_recorded_successes,total_practice_successes] = api.my_status() # Get my game stats: (# of tries, # of wins)\n",
        "# practice_success_rate = total_practice_successes / total_practice_runs\n",
        "# print('run %d practice games out of an allotted 100,000. practice success rate so far = %.3f' % (total_practice_runs, practice_success_rate))\n"
      ]
    },
    {
      "cell_type": "markdown",
      "metadata": {
        "id": "NtV38QZn6ezs"
      },
      "source": [
        "## Playing recorded games:\n",
        "Please finalize your code prior to running the cell below. Once this code executes once successfully your submission will be finalized. Our system will not allow you to rerun any additional games.\n",
        "\n",
        "Please note that it is expected that after you successfully run this block of code that subsequent runs will result in the error message \"Your account has been deactivated\".\n",
        "\n",
        "Once you've run this section of the code your submission is complete. Please send us your source code via email."
      ]
    },
    {
      "cell_type": "code",
      "execution_count": null,
      "metadata": {
        "collapsed": true,
        "id": "2ScCGlwt6ezt"
      },
      "outputs": [],
      "source": [
        "# for i in range(1000):\n",
        "#     print('Playing ', i, ' th game')\n",
        "#     # Uncomment the following line to execute your final runs. Do not do this until you are satisfied with your submission\n",
        "#     #api.start_game(practice=0,verbose=False)\n",
        "    \n",
        "#     # DO NOT REMOVE as otherwise the server may lock you out for too high frequency of requests\n",
        "#     time.sleep(0.5)"
      ]
    },
    {
      "cell_type": "code",
      "execution_count": null,
      "metadata": {
        "collapsed": true,
        "id": "f8pdo3sb6ezt"
      },
      "outputs": [],
      "source": []
    },
    {
      "cell_type": "markdown",
      "metadata": {
        "id": "zHiub03u6ezt"
      },
      "source": [
        "## To check your game statistics\n",
        "1. Simply use \"my_status\" method.\n",
        "2. Returns your total number of games, and number of wins."
      ]
    },
    {
      "cell_type": "code",
      "execution_count": null,
      "metadata": {
        "collapsed": true,
        "id": "RKP9PHY-6ezt"
      },
      "outputs": [],
      "source": [
        "# [total_practice_runs,total_recorded_runs,total_recorded_successes,total_practice_successes] = api.my_status() # Get my game stats: (# of tries, # of wins)\n",
        "# success_rate = total_recorded_successes/total_recorded_runs\n",
        "# print('overall success rate = %.3f' % success_rate)"
      ]
    },
    {
      "cell_type": "code",
      "execution_count": null,
      "metadata": {
        "collapsed": true,
        "id": "xVserBjE6ezt"
      },
      "outputs": [],
      "source": []
    }
  ],
  "metadata": {
    "accelerator": "GPU",
    "colab": {
      "collapsed_sections": [],
      "include_colab_link": true,
      "provenance": []
    },
    "gpuClass": "standard",
    "kernelspec": {
      "display_name": "Python 3.6.2 64-bit",
      "language": "python",
      "name": "python3"
    },
    "language_info": {
      "codemirror_mode": {
        "name": "ipython",
        "version": 3
      },
      "file_extension": ".py",
      "mimetype": "text/x-python",
      "name": "python",
      "nbconvert_exporter": "python",
      "pygments_lexer": "ipython3",
      "version": "3.6.2"
    },
    "vscode": {
      "interpreter": {
        "hash": "f0c821dc648535d7d8610814d682d3cb622cf5d497d26fde7ac620349a828fd5"
      }
    }
  },
  "nbformat": 4,
  "nbformat_minor": 0
}
